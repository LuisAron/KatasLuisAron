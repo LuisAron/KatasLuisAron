{
 "cells": [
  {
   "cell_type": "markdown",
   "metadata": {},
   "source": [
    "# Expresiones de prueba"
   ]
  },
  {
   "cell_type": "code",
   "execution_count": 26,
   "metadata": {},
   "outputs": [],
   "source": [
    "# Tip de práctica 1: Intenta ejecutarlo en un notebook\n",
    "a = 97\n",
    "b = 55\n",
    "# test expression / expresión de prueba\n",
    "if a < b:\n",
    "    # statement to be run / instrucción a ejecutar\n",
    "    print(b)"
   ]
  },
  {
   "cell_type": "markdown",
   "metadata": {},
   "source": [
    "# Escribir declariones 'if'"
   ]
  },
  {
   "cell_type": "code",
   "execution_count": 27,
   "metadata": {},
   "outputs": [
    {
     "name": "stdout",
     "output_type": "stream",
     "text": [
      "93\n"
     ]
    }
   ],
   "source": [
    "# Tip de práctica 2: Antes de ejecutarlo en un notebook, intenta deducir cuál será el resultado y compruébalo.\n",
    "# Aplica el tip de práctica 1.\n",
    "a = 93\n",
    "b = 27\n",
    "if a >= b:\n",
    "    print(a)"
   ]
  },
  {
   "cell_type": "code",
   "execution_count": 28,
   "metadata": {},
   "outputs": [
    {
     "name": "stdout",
     "output_type": "stream",
     "text": [
      "44\n"
     ]
    }
   ],
   "source": [
    "# Tips de práctica 1 y 2\n",
    "a = 24\n",
    "b = 44\n",
    "if a <= 0:\n",
    "    print(a)\n",
    "print(b) # El resultado se debe a que la expresión de prueba es False y la instrucción print(b) no tiene sangría en el mismo nivel que la instrucción if."
   ]
  },
  {
   "cell_type": "markdown",
   "metadata": {},
   "source": [
    "# Trabajando con else\n"
   ]
  },
  {
   "cell_type": "code",
   "execution_count": 29,
   "metadata": {},
   "outputs": [
    {
     "name": "stdout",
     "output_type": "stream",
     "text": [
      "27\n"
     ]
    }
   ],
   "source": [
    "# La sintaxis de una instrucción 'if/else' es siempre\n",
    "#if expresion_prueba:\n",
    "    # instrucción(es) a  ejecutar\n",
    "#else:\n",
    "    # instrucción(es) a ejecutar \n",
    "\n",
    "a = 93\n",
    "b = 27\n",
    "if a <= b:\n",
    "    print(a)\n",
    "else:\n",
    "    print(b)    "
   ]
  },
  {
   "cell_type": "markdown",
   "metadata": {},
   "source": [
    "# Trabajando con elif"
   ]
  },
  {
   "cell_type": "code",
   "execution_count": 30,
   "metadata": {},
   "outputs": [
    {
     "name": "stdout",
     "output_type": "stream",
     "text": [
      "a es mayor o igual que b\n"
     ]
    }
   ],
   "source": [
    "# La sintacis de una instrucción 'if/elif' es:\n",
    "\n",
    "#if expresion_prueba.\n",
    "    # instrucción(es) a ejecutar\n",
    "#elif expresion_prueba:\n",
    "    # instrucción(es) a ejecutar\n",
    "\n",
    "a = 93\n",
    "b = 27\n",
    "if a >= b:\n",
    "    print(\"a es mayor o igual que b\")\n",
    "elif a == b:\n",
    "    print(\"a es igual que b\")    "
   ]
  },
  {
   "cell_type": "markdown",
   "metadata": {},
   "source": [
    "# Combinar declaraciones if, elif, y else"
   ]
  },
  {
   "cell_type": "code",
   "execution_count": 31,
   "metadata": {},
   "outputs": [
    {
     "name": "stdout",
     "output_type": "stream",
     "text": [
      "a es mayor que b\n"
     ]
    }
   ],
   "source": [
    "# ejemplo de nuevo con una declaración 'elif' añadida:\n",
    "a = 93\n",
    "b = 27\n",
    "if a > b:\n",
    "    print(\"a es mayor que b\")\n",
    "elif a < b:\n",
    "    print(\"a es menor que b\")\n",
    "else: \n",
    "    print(\"a es igual que b\")\n",
    "\n",
    "# Sintaxis de un bloque de codigo que utiliza los tres tipos\n",
    "#if expresion_prueba:\n",
    "    # instrucción(es) a ejecutar\n",
    "#elif expresion_prueba:\n",
    "    # instrucción(es) a ejecutar\n",
    "#elif expresion_prueba:\n",
    "    # instrucción(es) a ejecutar\n",
    "#else:\n",
    "    # instrucción(es) a ejecutar"
   ]
  },
  {
   "cell_type": "markdown",
   "metadata": {},
   "source": [
    "# Trabajar con lógica condicional anidada"
   ]
  },
  {
   "cell_type": "code",
   "execution_count": 32,
   "metadata": {},
   "outputs": [
    {
     "name": "stdout",
     "output_type": "stream",
     "text": [
      "a es menor que b\n"
     ]
    }
   ],
   "source": [
    "a = 16\n",
    "b = 25\n",
    "c = 27\n",
    "if a > b:\n",
    "    if b > c:\n",
    "        print (\"a es mayor que b y b es mayor que c\")\n",
    "    else: \n",
    "        print (\"a es mayor que b y menor que c\")\n",
    "elif a == b:\n",
    "    print (\"a es igual que b\")\n",
    "else:\n",
    "    print (\"a es menor que b\")"
   ]
  },
  {
   "cell_type": "code",
   "execution_count": 33,
   "metadata": {},
   "outputs": [],
   "source": [
    "# Sintaxis  de la lógica condicional anidada.\n",
    "\n",
    "#if expresion_prueba:\n",
    "    # instrucción(es) a ejecutar\n",
    "    #if expresion_prueba:\n",
    "        # instrucción(es) a ejecutar\n",
    "    #else: \n",
    "        # instrucción(es) a ejecutar\n",
    "#elif expresion_prueba:\n",
    "    # instrucción(es) a ejecutar\n",
    "   #if expresion_prueba:\n",
    "        # instrucción(es) a ejecutar\n",
    "    #else: \n",
    "        # instrucción(es) a ejecutar\n",
    "#else:\n",
    "    # instrucción(es) a ejecutar"
   ]
  },
  {
   "cell_type": "markdown",
   "metadata": {},
   "source": [
    "# El operasor 'or'"
   ]
  },
  {
   "cell_type": "code",
   "execution_count": 34,
   "metadata": {},
   "outputs": [
    {
     "name": "stdout",
     "output_type": "stream",
     "text": [
      "57\n"
     ]
    }
   ],
   "source": [
    "#Puede conectar dos expresiones booleanas o de prueba mediante el operador booleano or. \n",
    "\n",
    "a = 23\n",
    "b = 34\n",
    "if a == 34 or b == 34: # una condición tiene que se tru para que funcione\n",
    "    print(a + b)\n"
   ]
  },
  {
   "cell_type": "code",
   "execution_count": 35,
   "metadata": {},
   "outputs": [],
   "source": [
    "# Una expresión booleana que utiliza or tiene la sintaxis siguiente:\n",
    "\n",
    "#subexpresión1 or subexpresión2"
   ]
  },
  {
   "cell_type": "markdown",
   "metadata": {},
   "source": [
    "# El operador 'and'"
   ]
  },
  {
   "cell_type": "code",
   "execution_count": 36,
   "metadata": {},
   "outputs": [],
   "source": [
    "# Ambas condiciones de la expresión de prueba deben se verdaderas.\n",
    "a = 23\n",
    "b = 34\n",
    "if a == 34 and b == 34:\n",
    "    print (a + b)"
   ]
  },
  {
   "cell_type": "code",
   "execution_count": 37,
   "metadata": {},
   "outputs": [],
   "source": [
    "# Una expresión booleana que utiliza and tiene la sintaxis siguiente:\n",
    "\n",
    "#subexpresión1 and subexpresión2"
   ]
  },
  {
   "cell_type": "markdown",
   "metadata": {},
   "source": [
    "# La diferencia entre and y or"
   ]
  },
  {
   "cell_type": "markdown",
   "metadata": {},
   "source": [
    "<!-- Aquí está la tabla de la verdad para: and \n",
    "\n",
    "subexpresión1\tOperador\tsubexpresión2\tResultado\n",
    "    True\t       and\t        True\t      True\n",
    "    True\t       and\t        False      \t  False\n",
    "    False\t       and\t        True\t      False\n",
    "    False\t       and\t        False\t      False\n",
    "\n",
    "Aquí está la tabla de la verdad para: or\n",
    "\n",
    "subexpresión1\tOperador\tsubexpresión2\tResultado\n",
    "    True\t      or\t        True\t       True\n",
    "    True\t      or\t        False\t       True\n",
    "    False\t      or\t        True\t       True\n",
    "    False\t      or\t        False\t       False -->"
   ]
  },
  {
   "cell_type": "markdown",
   "metadata": {},
   "source": [
    "# Kata-3 Ejercicios"
   ]
  },
  {
   "cell_type": "code",
   "execution_count": 46,
   "metadata": {},
   "outputs": [
    {
     "name": "stdout",
     "output_type": "stream",
     "text": [
      "!Advertencia¡ Un asteroide se acerca a la Tierra demasiado rapido.\n"
     ]
    }
   ],
   "source": [
    "#Escribir una lógica condicional que imprima una advertencia si un asteroide se acerca a la Tierra demasiado rápido.\n",
    "\n",
    "asteroide = 49\n",
    "\n",
    "if asteroide > 25:\n",
    "    print ('!Advertencia¡ Un asteroide se acerca a la Tierra demasiado rapido.')\n",
    "else:\n",
    "    print ('No hay peligro de acercamiento de un asteroide.')"
   ]
  },
  {
   "cell_type": "code",
   "execution_count": 48,
   "metadata": {},
   "outputs": [
    {
     "name": "stdout",
     "output_type": "stream",
     "text": [
      "No hay ningun asteroide\n"
     ]
    }
   ],
   "source": [
    "# Escribir la lógica condicional para alertar a las personas de todo el mundo que deben buscar una asteroide en el cielo.\n",
    "\n",
    "asteroide = 19\n",
    "if asteroide > 20:\n",
    "    print (\"Ahora mismo esta pasando una asteroide por la tierra.\")\n",
    "elif asteroide == 20:\n",
    "    print (\"Miren arriba, esta pasando un asteroide ahora mismo.\")\n",
    "else:\n",
    "    print (\"No hay ningun asteroide\")\n"
   ]
  },
  {
   "cell_type": "code",
   "execution_count": 55,
   "metadata": {},
   "outputs": [
    {
     "name": "stdout",
     "output_type": "stream",
     "text": [
      "Mira arriba, una hermosa luz esta pasando.\n",
      "Un asteroide se quemara a medida que entra an la atmósfera.\n"
     ]
    }
   ],
   "source": [
    "# Uso de operadores and y or\n",
    "Velocidad = 25\n",
    "Tamaño = 24\n",
    "\n",
    "if Velocidad >= 25 and Tamaño > 25:\n",
    "    print (\"!Peligro¡ us asteroide grande se acerca muy rapido a la Tierra\")\n",
    "    if Tamaño < 25 or Velocidad <= 25:\n",
    "        print (\"Un asteroide se acerca a la tierra, pero no representa peligro\") \n",
    "elif Velocidad >= 20:\n",
    "    print (\"Mira arriba, una hermosa luz esta pasando.\")\n",
    "    if Tamaño < 25:\n",
    "        print (\"Un asteroide se quemara a medida que entra an la atmósfera.\")\n",
    "else:\n",
    "    print (\"Nada que ver, siga su dia\")"
   ]
  }
 ],
 "metadata": {
  "interpreter": {
   "hash": "10e7ef0ac70ba9edcaa798ca70685aa2ffc54f0a8e5ce583a407b75739003b7e"
  },
  "kernelspec": {
   "display_name": "Python 3.9.4 64-bit",
   "language": "python",
   "name": "python3"
  },
  "language_info": {
   "codemirror_mode": {
    "name": "ipython",
    "version": 3
   },
   "file_extension": ".py",
   "mimetype": "text/x-python",
   "name": "python",
   "nbconvert_exporter": "python",
   "pygments_lexer": "ipython3",
   "version": "3.9.4"
  },
  "orig_nbformat": 4
 },
 "nbformat": 4,
 "nbformat_minor": 2
}
