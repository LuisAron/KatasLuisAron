{
 "cells": [
  {
   "cell_type": "markdown",
   "metadata": {},
   "source": [
    "# Acerca de los ciclos while"
   ]
  },
  {
   "cell_type": "code",
   "execution_count": 1,
   "metadata": {},
   "outputs": [],
   "source": [
    "# Un ciclo while tiene tres partes importantes: La palabra while, seguida de un espacio. La condición que se va a probar. Si la condición es True, se ejecutará el código dentro del ciclo while. El código que quiere ejecutar para cada elemento del objeto iterable, seguido de espacios en blanco anidados. Por ejemplo:\n",
    "# while condition:\n",
    "    # lo que quieres que se ejecute"
   ]
  },
  {
   "cell_type": "code",
   "execution_count": 3,
   "metadata": {},
   "outputs": [],
   "source": [
    "# Veamos cómo puedes crear código para pedir a los usuarios que escriban valores y, después, permitirles usar done cuando terminen de escribir los valores. En nuestro ejemplo, usaremos la entrada de usuario como condición y, después, la probaremos al principio del ciclo while.\n",
    "entrada_usuario = ''\n",
    "\n",
    "while entrada_usuario.lower() != 'done':\n",
    "    entrada_usuario = input('Ingresa un nuevo valor, o done cuando este hecho')\n",
    "\n",
    "# Definimos la variable user_input (Para guardar lo que el usuario va a escribir)\n",
    "# mientras(while) lo que el usuario escriba(user_input), convertido a minúsculas(.lower()) sea diferente de(!=) la palabra 'done' quiero que: \n",
    "# Guardes en la variable user_input(user_input =), lo que el usuario escriba (input), muestra un texto de ejemplo para el usuario('Enter a new value, or done when done').\n",
    "    "
   ]
  },
  {
   "cell_type": "code",
   "execution_count": 6,
   "metadata": {},
   "outputs": [
    {
     "name": "stdout",
     "output_type": "stream",
     "text": [
      "['hola', 'este', 'es', 'una', 'lista']\n"
     ]
    }
   ],
   "source": [
    "# Creamos la variable que almacena el texto\n",
    "user_input = ''\n",
    "# Creamos la lista que almacena cada uno de los textos que el usuario ingresa\n",
    "inputs = []\n",
    "\n",
    "# Ciclo while\n",
    "while user_input.lower() != 'done':\n",
    "    # Verificamos si hay un valor en user_input\n",
    "    if user_input:\n",
    "        # Almacenamos ese valor en la lista\n",
    "        inputs.append(user_input)\n",
    "    # Capturamos un nuevo valor\n",
    "    user_input = input('Ingresa un nuevo valor, o done cuando este hecho')\n",
    "print(inputs)"
   ]
  },
  {
   "cell_type": "markdown",
   "metadata": {},
   "source": [
    "# Uso de ciclos for con listas"
   ]
  },
  {
   "cell_type": "code",
   "execution_count": 7,
   "metadata": {},
   "outputs": [
    {
     "name": "stdout",
     "output_type": "stream",
     "text": [
      "The first planet is  Mercury\n",
      "The second planet is  Venus\n",
      "The third planet is  Earth\n"
     ]
    }
   ],
   "source": [
    "planets = [\"Mercury\", \"Venus\", \"Earth\", \"Mars\", \"Jupiter\", \"Saturn\", \"Uranus\", \"Neptune\"]\n",
    "\n",
    "print(\"The first planet is \", planets[0])\n",
    "print(\"The second planet is \", planets[1])\n",
    "print(\"The third planet is \", planets[2])"
   ]
  },
  {
   "cell_type": "code",
   "execution_count": 8,
   "metadata": {},
   "outputs": [
    {
     "name": "stdout",
     "output_type": "stream",
     "text": [
      "4\n",
      "3\n",
      "2\n",
      "1\n",
      "0\n",
      "Blast off!! 🚀\n"
     ]
    }
   ],
   "source": [
    "# Este es un ciclo for de ejemplo que hace una cuenta atrás, de 4 a 0\n",
    "countdown = [4, 3, 2, 1, 0]\n",
    "for numero in countdown:\n",
    "    print(numero)\n",
    "print(\"Blast off!! 🚀\")\n",
    "\n",
    "# El ciclo for es una instrucción con cinco partes importantes:\n",
    "\n",
    "# La palabra for, seguida de un espacio.\n",
    "# El nombre de la variable que quieres crear para cada valor de la secuencia (number).\n",
    "# La palabra in, entre espacios.\n",
    "# El nombre de la lista (countdown, en el ejemplo anterior) u objeto iterable que quieres recorrer en ciclo, seguido de dos puntos (:).\n",
    "# El código que quieres ejecutar para cada elemento del objeto iterable, separado por espacios en blanco anidados."
   ]
  },
  {
   "cell_type": "code",
   "execution_count": 10,
   "metadata": {},
   "outputs": [
    {
     "name": "stdout",
     "output_type": "stream",
     "text": [
      "4\n",
      "3\n",
      "2\n",
      "1\n",
      "0\n",
      "Blast off!! 🚀\n"
     ]
    }
   ],
   "source": [
    "# Vamos a cambiar el código anterior para que espere un segundo entre cada número mediante la función sleep():\n",
    "\n",
    "# De la biblioteca time, importamos (traemos) la clase sleep\n",
    "\n",
    "from time import sleep\n",
    "\n",
    "# Creamos una lista de 5 números llamada countdown\n",
    "countdown = [4, 3, 2, 1, 0]\n",
    "\n",
    "# Para cada número en countdown\n",
    "for numero in countdown:\n",
    "    #Muestra el número\n",
    "    print(numero)\n",
    "\n",
    "    # Espera (1segundo)\n",
    "    sleep(1)\n",
    "\n",
    "# Muestra el mensaje Blast off\n",
    "print(\"Blast off!! 🚀\")"
   ]
  },
  {
   "cell_type": "markdown",
   "metadata": {},
   "source": [
    "# kata-7 Ejercicios"
   ]
  },
  {
   "cell_type": "code",
   "execution_count": 15,
   "metadata": {},
   "outputs": [],
   "source": [
    "# Ejercicio 1: Uso de ciclos while en Python\n",
    "new_planet = ''\n",
    "\n",
    "planets = []\n",
    "\n",
    "while new_planet.lower() != 'done':\n",
    "    if new_planet:\n",
    "        planets.append(new_planet)\n",
    "    new_planet = input('Ingresa una lista de los planetas.')\n"
   ]
  },
  {
   "cell_type": "code",
   "execution_count": 16,
   "metadata": {},
   "outputs": [
    {
     "name": "stdout",
     "output_type": "stream",
     "text": [
      "venus\n",
      "marte\n",
      "tierra\n",
      "saturno\n",
      "jupiter\n",
      "etc\n"
     ]
    }
   ],
   "source": [
    "#Ejercicio 2: Creación de un ciclo \"for\"\n",
    "for planet in planets:\n",
    "    print(planet)"
   ]
  }
 ],
 "metadata": {
  "interpreter": {
   "hash": "10e7ef0ac70ba9edcaa798ca70685aa2ffc54f0a8e5ce583a407b75739003b7e"
  },
  "kernelspec": {
   "display_name": "Python 3.9.4 64-bit",
   "language": "python",
   "name": "python3"
  },
  "language_info": {
   "codemirror_mode": {
    "name": "ipython",
    "version": 3
   },
   "file_extension": ".py",
   "mimetype": "text/x-python",
   "name": "python",
   "nbconvert_exporter": "python",
   "pygments_lexer": "ipython3",
   "version": "3.9.4"
  },
  "orig_nbformat": 4
 },
 "nbformat": 4,
 "nbformat_minor": 2
}
